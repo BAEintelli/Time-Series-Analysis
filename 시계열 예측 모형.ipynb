{
 "cells": [
  {
   "cell_type": "markdown",
   "metadata": {},
   "source": [
    "## 시계열 예측 방법론 \n",
    "\n",
    "### 데이터 기반\n",
    "\n",
    "\n",
    " #### 금융/계량\n",
    " - ARIMA와 변형 모형\n",
    "    - Univariate(단변량) 시계열 예측\n",
    "    - Benchmark 모형\n",
    "    \n",
    "- 계층적 시계열 모형\n",
    "    - 시계열 특성의 큰 변화가 생겼을 경우 사용\n",
    "    -(ex. 금융위기 부근에서 데이터 특성이 변동된 경우)\n",
    "    \n",
    "- VAR과 변형 모형\n",
    "    - Vector AutoTregressive : AR 모형의 변수를 확장한 모델\n",
    "    - Multivariate(다변량) 시계열 예측할 때 널리 사용\n",
    "- GARCH 와 변형 모형\n",
    "    - 변동서에 전체 시계열이 영향을 받는 겨우(ex. 주식 종목별 등락 데이터) 변동성을 고련한 예측모형\n",
    "    - High frequency(일단위) 예측에 사용\n",
    "    \n",
    " #### 딥러닝\n",
    " \n",
    "- RNN \n",
    "     - AR(VAR)모델의 딥러닝 버전\n",
    " \n",
    "- LSTM\n",
    "    - 장기 기억이 가능하도록 Memory-Selection gate 정의\n",
    "    - Rare disaster 와 같이 high order term이나 계층적 시계열 특성 반영\n",
    "    \n",
    "    \n",
    "    \n",
    "    \n",
    " "
   ]
  },
  {
   "cell_type": "markdown",
   "metadata": {},
   "source": [
    "### 최적화 기반\n",
    "\n",
    "- 매시간 + 최적화 -> 동적 프로그래밍\n",
    "\n",
    "- 1. 현재 상태에서(State Variable =  자본, 기술, 고용수준)\n",
    "- 2. 외부에서 변화가 주어졌을때(Exogenous Variable = 세금상승, 규제등)\n",
    "- 3. 이후 예상되는 모든 후생을 최대화 하도록(Value Function)\n",
    "- 4. 해동한다.(Policy function)\n",
    "\n",
    "- Detrministic Decision(확정적 결정)\n",
    "    - 외부 요스는 '확률적'이지만,  agent의 결정은 '확정적'\n",
    "    - 매기 최적의 Decision을 도촐\n",
    "    \n",
    "- Stochastic Decision(확률적 결정)\n",
    "     - 외부 요소 뿐만 아니라, agent의 결정도 '확률적'\n",
    "     - 최적일 확률이 높은 Decision을 도출\n",
    "     ex) 바둑은 미래의 상대 결정을 알수 없기 때문에 모든 결정이 '확률적'임"
   ]
  },
  {
   "cell_type": "code",
   "execution_count": null,
   "metadata": {},
   "outputs": [],
   "source": []
  }
 ],
 "metadata": {
  "kernelspec": {
   "display_name": "Python 3",
   "language": "python",
   "name": "python3"
  },
  "language_info": {
   "codemirror_mode": {
    "name": "ipython",
    "version": 3
   },
   "file_extension": ".py",
   "mimetype": "text/x-python",
   "name": "python",
   "nbconvert_exporter": "python",
   "pygments_lexer": "ipython3",
   "version": "3.7.4"
  }
 },
 "nbformat": 4,
 "nbformat_minor": 2
}
